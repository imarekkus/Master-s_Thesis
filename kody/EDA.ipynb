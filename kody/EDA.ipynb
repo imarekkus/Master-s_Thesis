{
 "cells": [
  {
   "cell_type": "code",
   "execution_count": 9,
   "metadata": {},
   "outputs": [],
   "source": [
    "# Libraries\n",
    "import pandas as pd\n",
    "import matplotlib.pyplot as plt\n",
    "import numpy as np\n",
    "from tensorflow import keras\n",
    "import csv\n",
    "import os"
   ]
  },
  {
   "cell_type": "code",
   "execution_count": 7,
   "metadata": {},
   "outputs": [],
   "source": [
    "# Loading data\n",
    "train_path = 'E:/Praca Magisterska/Master-s_Thesis/dane/GTSRB/Train'\n",
    "test_path = 'E:/Praca Magisterska/Master-s_Thesis/dane/GTSRB/Test'"
   ]
  },
  {
   "cell_type": "code",
   "execution_count": 16,
   "metadata": {},
   "outputs": [],
   "source": [
    "# function for reading the images\n",
    "# arguments: path to the traffic sign data, for example './GTSRB/Training'\n",
    "# returns: list of images, list of corresponding labels \n",
    "def readTrafficSigns(rootpath):\n",
    "    '''Reads traffic sign data for German Traffic Sign Recognition Benchmark.\n",
    "\n",
    "    Arguments: path to the traffic sign data, for example './GTSRB/Training'\n",
    "    Returns:   list of images, list of corresponding labels'''\n",
    "    images = [] # images\n",
    "    labels = [] # corresponding labels\n",
    "    # loop over all 42 classes\n",
    "    for c in range(0,43):\n",
    "        prefix = rootpath + '/' + format(c, '01d') + '/' # subdirectory for class\n",
    "        gtFile = open(prefix + format(c, '05d') + '_' + format(c, '05d') + '.csv') # annotations file\n",
    "        gtReader = csv.reader(gtFile, delimiter=';') # csv parser for annotations file\n",
    "        gtReader.next() # skip header\n",
    "        # loop over all images in current annotations file\n",
    "        for row in gtReader:\n",
    "            images.append(plt.imread(prefix + row[0])) # the 1th column is the filename\n",
    "            labels.append(row[7]) # the 8th column is the label\n",
    "        gtFile.close()\n",
    "    return images, labels\n",
    "\n",
    "readTrafficSigns(\"E:/Praca Magisterska/Master-s_Thesis/dane/GTSRB/Train\")\n",
    "\n",
    "# The German Traffic Sign Recognition Benchmark\n",
    "#\n",
    "# sample code for reading the traffic sign images and the\n",
    "# corresponding labels\n",
    "#\n",
    "# example:\n",
    "\n",
    "# trainImages, trainLabels = readTrafficSigns('GTSRB/Training')\n",
    "# print len(trainLabels), len(trainImages)\n",
    "# plt.imshow(trainImages[42])\n",
    "# plt.show()"
   ]
  },
  {
   "cell_type": "code",
   "execution_count": null,
   "metadata": {},
   "outputs": [],
   "source": [
    "# Loading attached .csv's to get basic info about dataset\n",
    "\n",
    "#Train.csv contains information regarding each train image\n",
    "df_train = pd.read_csv(\"E:/Praca Magisterska/Master-s_Thesis/dane/GTSRB/Train.csv\")\n",
    "labels_train = df_train['ClassId']\n",
    "\n",
    "#Test.csv contains information regarding each test image\n",
    "df_test = pd.read_csv('E:/Praca Magisterska/Master-s_Thesis/dane/GTSRB/Test.csv')\n",
    "labels_test = df_test['ClassId']\n",
    "df_train.head()"
   ]
  }
 ],
 "metadata": {
  "kernelspec": {
   "display_name": "base",
   "language": "python",
   "name": "python3"
  },
  "language_info": {
   "codemirror_mode": {
    "name": "ipython",
    "version": 3
   },
   "file_extension": ".py",
   "mimetype": "text/x-python",
   "name": "python",
   "nbconvert_exporter": "python",
   "pygments_lexer": "ipython3",
   "version": "3.8.10"
  },
  "orig_nbformat": 4,
  "vscode": {
   "interpreter": {
    "hash": "ff4f85d6e04298634172ac5d8264e7e9b556b95639fe52ebb9425c4d4cba0c9c"
   }
  }
 },
 "nbformat": 4,
 "nbformat_minor": 2
}
