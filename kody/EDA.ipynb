{
 "cells": [
  {
   "cell_type": "code",
   "execution_count": 59,
   "metadata": {},
   "outputs": [],
   "source": [
    "# Libraries\n",
    "import pandas as pd\n",
    "import matplotlib.pyplot as plt\n",
    "import numpy as np\n",
    "from tensorflow import keras\n",
    "import csv\n",
    "import os\n",
    "from PIL import Image\n",
    "import random"
   ]
  },
  {
   "cell_type": "code",
   "execution_count": 2,
   "metadata": {},
   "outputs": [
    {
     "data": {
      "text/html": [
       "<div>\n",
       "<style scoped>\n",
       "    .dataframe tbody tr th:only-of-type {\n",
       "        vertical-align: middle;\n",
       "    }\n",
       "\n",
       "    .dataframe tbody tr th {\n",
       "        vertical-align: top;\n",
       "    }\n",
       "\n",
       "    .dataframe thead th {\n",
       "        text-align: right;\n",
       "    }\n",
       "</style>\n",
       "<table border=\"1\" class=\"dataframe\">\n",
       "  <thead>\n",
       "    <tr style=\"text-align: right;\">\n",
       "      <th></th>\n",
       "      <th>Width</th>\n",
       "      <th>Height</th>\n",
       "      <th>Roi.X1</th>\n",
       "      <th>Roi.Y1</th>\n",
       "      <th>Roi.X2</th>\n",
       "      <th>Roi.Y2</th>\n",
       "      <th>ClassId</th>\n",
       "      <th>Path</th>\n",
       "    </tr>\n",
       "  </thead>\n",
       "  <tbody>\n",
       "    <tr>\n",
       "      <th>0</th>\n",
       "      <td>27</td>\n",
       "      <td>26</td>\n",
       "      <td>5</td>\n",
       "      <td>5</td>\n",
       "      <td>22</td>\n",
       "      <td>20</td>\n",
       "      <td>20</td>\n",
       "      <td>Train/20/00020_00000_00000.png</td>\n",
       "    </tr>\n",
       "    <tr>\n",
       "      <th>1</th>\n",
       "      <td>28</td>\n",
       "      <td>27</td>\n",
       "      <td>5</td>\n",
       "      <td>6</td>\n",
       "      <td>23</td>\n",
       "      <td>22</td>\n",
       "      <td>20</td>\n",
       "      <td>Train/20/00020_00000_00001.png</td>\n",
       "    </tr>\n",
       "    <tr>\n",
       "      <th>2</th>\n",
       "      <td>29</td>\n",
       "      <td>26</td>\n",
       "      <td>6</td>\n",
       "      <td>5</td>\n",
       "      <td>24</td>\n",
       "      <td>21</td>\n",
       "      <td>20</td>\n",
       "      <td>Train/20/00020_00000_00002.png</td>\n",
       "    </tr>\n",
       "    <tr>\n",
       "      <th>3</th>\n",
       "      <td>28</td>\n",
       "      <td>27</td>\n",
       "      <td>5</td>\n",
       "      <td>6</td>\n",
       "      <td>23</td>\n",
       "      <td>22</td>\n",
       "      <td>20</td>\n",
       "      <td>Train/20/00020_00000_00003.png</td>\n",
       "    </tr>\n",
       "    <tr>\n",
       "      <th>4</th>\n",
       "      <td>28</td>\n",
       "      <td>26</td>\n",
       "      <td>5</td>\n",
       "      <td>5</td>\n",
       "      <td>23</td>\n",
       "      <td>21</td>\n",
       "      <td>20</td>\n",
       "      <td>Train/20/00020_00000_00004.png</td>\n",
       "    </tr>\n",
       "  </tbody>\n",
       "</table>\n",
       "</div>"
      ],
      "text/plain": [
       "   Width  Height  Roi.X1  Roi.Y1  Roi.X2  Roi.Y2  ClassId  \\\n",
       "0     27      26       5       5      22      20       20   \n",
       "1     28      27       5       6      23      22       20   \n",
       "2     29      26       6       5      24      21       20   \n",
       "3     28      27       5       6      23      22       20   \n",
       "4     28      26       5       5      23      21       20   \n",
       "\n",
       "                             Path  \n",
       "0  Train/20/00020_00000_00000.png  \n",
       "1  Train/20/00020_00000_00001.png  \n",
       "2  Train/20/00020_00000_00002.png  \n",
       "3  Train/20/00020_00000_00003.png  \n",
       "4  Train/20/00020_00000_00004.png  "
      ]
     },
     "execution_count": 2,
     "metadata": {},
     "output_type": "execute_result"
    }
   ],
   "source": [
    "# Loading attached .csv's to get basic info about dataset\n",
    "\n",
    "#Train.csv contains information regarding each train image\n",
    "df_train = pd.read_csv(\"https://raw.githubusercontent.com/imarekkus/Master-s_Thesis/main/dane/GTSRB/Train.csv\")\n",
    "#labels_train = df_train['ClassId']\n",
    "\n",
    "#Test.csv contains information regarding each test image\n",
    "df_test = pd.read_csv('https://raw.githubusercontent.com/imarekkus/Master-s_Thesis/main/dane/GTSRB/Test.csv')\n",
    "#labels_test = df_test['ClassId']\n",
    "\n",
    "\n",
    "df_train.head()"
   ]
  },
  {
   "cell_type": "code",
   "execution_count": 3,
   "metadata": {},
   "outputs": [
    {
     "name": "stdout",
     "output_type": "stream",
     "text": [
      "Training Set: 39209 samples\n",
      "Test Set:     12630 samples\n"
     ]
    }
   ],
   "source": [
    "# Basic info about the image shape, test and training set\n",
    "print(\"Training Set: {} samples\".format(len(df_train)))\n",
    "print(\"Test Set:     {} samples\".format(len(df_test)))"
   ]
  },
  {
   "cell_type": "code",
   "execution_count": 21,
   "metadata": {},
   "outputs": [
    {
     "data": {
      "text/plain": [
       "43"
      ]
     },
     "execution_count": 21,
     "metadata": {},
     "output_type": "execute_result"
    }
   ],
   "source": [
    "# Unique classes\n",
    "len(np.unique(df_train['ClassId']))"
   ]
  },
  {
   "cell_type": "code",
   "execution_count": 4,
   "metadata": {},
   "outputs": [],
   "source": [
    "# Defining function to load training dataset\n",
    "\n",
    "def readGTSRBTrain(rootpath):\n",
    "\n",
    "    '''Function for reading GTSRB Train dataset\n",
    "    Argument: path to the traffic sign data, i.e. './GTSRB/Train'\n",
    "    Returns:   list of images, list of corresponding labels'''\n",
    "\n",
    "    images = [] # images\n",
    "    labels = [] # corresponding labels\n",
    "    \n",
    "    # loop over all 42 classes\n",
    "    for c in range(0,43):\n",
    "\n",
    "        # get path to folder for each class\n",
    "        path = rootpath + '/' + str(c)\n",
    "\n",
    "        # get the list of images in the specified folder\n",
    "        images_list = os.listdir(path)\n",
    "\n",
    "        # iterate over the list of images\n",
    "        for a in images_list:\n",
    "            \n",
    "\n",
    "            try:\n",
    "                \n",
    "                # open each image in the list\n",
    "                image = Image.open(path + '/' + a)\n",
    "\n",
    "                # resize each image to the same size\n",
    "                image = image.resize((30,30))\n",
    "\n",
    "                # convert it into numpy array\n",
    "                image = np.array(image)\n",
    "\n",
    "                #append images and labels\n",
    "                images.append(image)\n",
    "                labels.append(c)\n",
    "\n",
    "            except:\n",
    "\n",
    "                # print error and which image it concerns\n",
    "                print(\"ERROR loading image \" + str(a))\n",
    "\n",
    "    return images, labels\n"
   ]
  },
  {
   "cell_type": "code",
   "execution_count": 5,
   "metadata": {},
   "outputs": [],
   "source": [
    "# Reading GTSRB train dataset\n",
    "\n",
    "trainImages, trainLabels = readGTSRBTrain('E:/Praca Magisterska/GTSRB/Train')\n"
   ]
  },
  {
   "cell_type": "code",
   "execution_count": 6,
   "metadata": {},
   "outputs": [],
   "source": [
    "# Reading GTSRB test dataset\n",
    "\n",
    "def readGTSRBTest():\n",
    "\n",
    "    '''Function for reading GTSRB Test dataset\n",
    "    Arguments: none\n",
    "    Returns:   list of images'''\n",
    "\n",
    "    # reading Test.csv to get paths to test images\n",
    "    df_test = pd.read_csv('https://raw.githubusercontent.com/imarekkus/Master-s_Thesis/main/dane/GTSRB/Test.csv')\n",
    "\n",
    "    path = df_test[\"Path\"].values\n",
    "\n",
    "    testImages=[]\n",
    "\n",
    "    # iterate over the list of images path from csv\n",
    "    for img in path:\n",
    "\n",
    "        try: \n",
    "            # open each image in the folder\n",
    "            image = Image.open('E:/Praca Magisterska/GTSRB/'+ img)\n",
    "            \n",
    "            # resize each image to the same size\n",
    "            image = image.resize([30, 30])\n",
    "\n",
    "            # convert it into numpy array\n",
    "            image = np.array(image)\n",
    "\n",
    "            #append images \n",
    "            testImages.append(image)\n",
    "\n",
    "        except:\n",
    "            print(\"ERROR loading image \" + str(img))\n",
    "\n",
    "    return testImages\n"
   ]
  },
  {
   "cell_type": "code",
   "execution_count": 7,
   "metadata": {},
   "outputs": [],
   "source": [
    "# Reading GTSRB train dataset\n",
    "\n",
    "testImages = readGTSRBTest()"
   ]
  },
  {
   "cell_type": "code",
   "execution_count": 8,
   "metadata": {},
   "outputs": [
    {
     "name": "stdout",
     "output_type": "stream",
     "text": [
      "Images and labels in train data: \n",
      "39209 39209\n",
      "Images in test data: \n",
      "12630\n"
     ]
    }
   ],
   "source": [
    "# Checking size of both lists\n",
    "print(\"Images and labels in train data: \")\n",
    "print(len(trainLabels), len(trainImages))\n",
    "print(\"Images in test data: \")\n",
    "print(len(testImages))"
   ]
  },
  {
   "cell_type": "code",
   "execution_count": 85,
   "metadata": {},
   "outputs": [
    {
     "data": {
      "text/plain": [
       "2924"
      ]
     },
     "execution_count": 85,
     "metadata": {},
     "output_type": "execute_result"
    }
   ],
   "source": [
    "# Size of images\n",
    "\n",
    "# Combine two columns into new one called size\n",
    "df_train['Size'] = df_train['Width'].astype(str) + 'x' + df_train['Height'].astype(str)\n",
    "\n",
    "# Getting unique values\n",
    "len(np.unique(df_train['Size']))"
   ]
  },
  {
   "cell_type": "code",
   "execution_count": 12,
   "metadata": {},
   "outputs": [
    {
     "name": "stdout",
     "output_type": "stream",
     "text": [
      "(30, 30, 3)\n"
     ]
    },
    {
     "data": {
      "image/png": "[encoded data removed]",
      "text/plain": [
       "<Figure size 432x288 with 1 Axes>"
      ]
     },
     "metadata": {
      "needs_background": "light"
     },
     "output_type": "display_data"
    }
   ],
   "source": [
    "# Example of train image\n",
    "print(trainImages[8000].shape)\n",
    "plt.imshow(trainImages[8000])\n",
    "plt.show()\n"
   ]
  },
  {
   "cell_type": "code",
   "execution_count": 58,
   "metadata": {},
   "outputs": [
    {
     "data": {
      "text/html": [
       "<div>\n",
       "<style scoped>\n",
       "    .dataframe tbody tr th:only-of-type {\n",
       "        vertical-align: middle;\n",
       "    }\n",
       "\n",
       "    .dataframe tbody tr th {\n",
       "        vertical-align: top;\n",
       "    }\n",
       "\n",
       "    .dataframe thead th {\n",
       "        text-align: right;\n",
       "    }\n",
       "</style>\n",
       "<table border=\"1\" class=\"dataframe\">\n",
       "  <thead>\n",
       "    <tr style=\"text-align: right;\">\n",
       "      <th></th>\n",
       "      <th>Liczebność danych</th>\n",
       "      <th>Wartości</th>\n",
       "    </tr>\n",
       "  </thead>\n",
       "  <tbody>\n",
       "    <tr>\n",
       "      <th>0</th>\n",
       "      <td>Zbiór treningowy</td>\n",
       "      <td>39209</td>\n",
       "    </tr>\n",
       "    <tr>\n",
       "      <th>1</th>\n",
       "      <td>Zbiór testowy</td>\n",
       "      <td>12630</td>\n",
       "    </tr>\n",
       "    <tr>\n",
       "      <th>2</th>\n",
       "      <td>Liczba klas</td>\n",
       "      <td>43</td>\n",
       "    </tr>\n",
       "  </tbody>\n",
       "</table>\n",
       "</div>"
      ],
      "text/plain": [
       "  Liczebność danych  Wartości\n",
       "0  Zbiór treningowy     39209\n",
       "1     Zbiór testowy     12630\n",
       "2       Liczba klas        43"
      ]
     },
     "execution_count": 58,
     "metadata": {},
     "output_type": "execute_result"
    }
   ],
   "source": [
    "# Creating table with summary of basic info\n",
    "df_summary = pd.DataFrame({'Liczebność danych':['Zbiór treningowy', 'Zbiór testowy', 'Liczba klas'],\n",
    "                                'Wartości':[len(trainImages), len(testImages), len(np.unique(df_train['ClassId']))]\n",
    "                                })\n",
    "df_summary"
   ]
  },
  {
   "cell_type": "code",
   "execution_count": 55,
   "metadata": {},
   "outputs": [],
   "source": [
    "# Saving table to csv\n",
    "#df_summary.to_csv('Podsumowanie danych.csv', encoding='utf-8-sig', index=False)"
   ]
  },
  {
   "cell_type": "code",
   "execution_count": 79,
   "metadata": {},
   "outputs": [
    {
     "data": {
      "image/png": "[encoded data removed]",
      "text/plain": [
       "<Figure size 720x720 with 9 Axes>"
      ]
     },
     "metadata": {
      "needs_background": "light"
     },
     "output_type": "display_data"
    }
   ],
   "source": [
    "# Visualizing some more images\n",
    "\n",
    "# Setting size of figure\n",
    "plt.figure(figsize=(10,10))\n",
    "\n",
    "# Setting up seed for replicability\n",
    "random.seed(1)\n",
    "\n",
    "# Loop for creating figure with images\n",
    "for i in range(1,10):\n",
    "    \n",
    "    # Creating subplots for 10 images\n",
    "    plt.subplot(3,3,i)\n",
    "\n",
    "    # Choosing random number\n",
    "    number = random.randint(0,39209)\n",
    "\n",
    "    # Getting random image and coresponding label\n",
    "    image = trainImages[number]\n",
    "    label = trainLabels[number]\n",
    "\n",
    "    # Plotting images and labels\n",
    "    plt.imshow(image)\n",
    "    plt.xlabel(label, fontweight='bold')\n",
    "\n",
    "# Saving image to jpg\n",
    "#plt.savefig('Images_vis.jpg', bbox_inches='tight')"
   ]
  },
  {
   "cell_type": "code",
   "execution_count": 112,
   "metadata": {},
   "outputs": [],
   "source": [
    "# Balance of classes\n",
    "unique_classes_train, classes_counts_train = np.unique(df_train['ClassId'], return_counts=True)\n",
    "\n",
    "unique_classes_test, classes_counts_test = np.unique(df_test['ClassId'], return_counts=True)"
   ]
  },
  {
   "cell_type": "code",
   "execution_count": 128,
   "metadata": {},
   "outputs": [
    {
     "data": {
      "image/png": "[encoded data removed]",
      "text/plain": [
       "<Figure size 1440x648 with 1 Axes>"
      ]
     },
     "metadata": {
      "needs_background": "light"
     },
     "output_type": "display_data"
    }
   ],
   "source": [
    "# Balance of classes in train set\n",
    "\n",
    "plt.figure(figsize=(20,9))\n",
    "plt.grid(axis='y')\n",
    "plt.bar(unique_classes_train, classes_counts_train, color='lightblue')\n",
    "plt.xticks(unique_classes_train, rotation=45)\n",
    "plt.show()"
   ]
  },
  {
   "cell_type": "code",
   "execution_count": 127,
   "metadata": {},
   "outputs": [
    {
     "data": {
      "image/png": "[encoded data removed]",
      "text/plain": [
       "<Figure size 1440x648 with 1 Axes>"
      ]
     },
     "metadata": {
      "needs_background": "light"
     },
     "output_type": "display_data"
    }
   ],
   "source": [
    "# Balance of classes in test set\n",
    "\n",
    "plt.figure(figsize=(20,9))\n",
    "plt.grid(axis='y')\n",
    "plt.bar(unique_classes_test, classes_counts_test, color='lightblue')\n",
    "plt.xticks(unique_classes_test, rotation=45)\n",
    "plt.show()"
   ]
  }
 ],
 "metadata": {
  "kernelspec": {
   "display_name": "base",
   "language": "python",
   "name": "python3"
  },
  "language_info": {
   "codemirror_mode": {
    "name": "ipython",
    "version": 3
   },
   "file_extension": ".py",
   "mimetype": "text/x-python",
   "name": "python",
   "nbconvert_exporter": "python",
   "pygments_lexer": "ipython3",
   "version": "3.8.10"
  },
  "orig_nbformat": 4,
  "vscode": {
   "interpreter": {
    "hash": "ff4f85d6e04298634172ac5d8264e7e9b556b95639fe52ebb9425c4d4cba0c9c"
   }
  }
 },
 "nbformat": 4,
 "nbformat_minor": 2
}
